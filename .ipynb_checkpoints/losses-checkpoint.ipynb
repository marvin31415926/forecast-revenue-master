{
 "cells": [
  {
   "cell_type": "code",
   "execution_count": 12,
   "id": "36f92cac",
   "metadata": {
    "ExecuteTime": {
     "end_time": "2022-08-09T18:20:26.438876Z",
     "start_time": "2022-08-09T18:20:26.427873Z"
    }
   },
   "outputs": [],
   "source": [
    "import pandas as pd"
   ]
  },
  {
   "cell_type": "code",
   "execution_count": 16,
   "id": "c37f788f",
   "metadata": {
    "ExecuteTime": {
     "end_time": "2022-08-09T18:23:12.823605Z",
     "start_time": "2022-08-09T18:23:12.554778Z"
    }
   },
   "outputs": [
    {
     "data": {
      "text/html": [
       "<div>\n",
       "<style scoped>\n",
       "    .dataframe tbody tr th:only-of-type {\n",
       "        vertical-align: middle;\n",
       "    }\n",
       "\n",
       "    .dataframe tbody tr th {\n",
       "        vertical-align: top;\n",
       "    }\n",
       "\n",
       "    .dataframe thead th {\n",
       "        text-align: right;\n",
       "    }\n",
       "</style>\n",
       "<table border=\"1\" class=\"dataframe\">\n",
       "  <thead>\n",
       "    <tr style=\"text-align: right;\">\n",
       "      <th></th>\n",
       "      <th>forecast</th>\n",
       "      <th>correct_forecast</th>\n",
       "      <th>host</th>\n",
       "      <th>date</th>\n",
       "    </tr>\n",
       "  </thead>\n",
       "  <tbody>\n",
       "    <tr>\n",
       "      <th>0</th>\n",
       "      <td>0.0</td>\n",
       "      <td>0.0</td>\n",
       "      <td>all</td>\n",
       "      <td>2022-07-01 00:00:00</td>\n",
       "    </tr>\n",
       "    <tr>\n",
       "      <th>125280</th>\n",
       "      <td>0.0</td>\n",
       "      <td>0.0</td>\n",
       "      <td>cross</td>\n",
       "      <td>2022-07-01 00:00:00</td>\n",
       "    </tr>\n",
       "    <tr>\n",
       "      <th>69120</th>\n",
       "      <td>0.0</td>\n",
       "      <td>0.0</td>\n",
       "      <td>five</td>\n",
       "      <td>2022-07-01 00:00:00</td>\n",
       "    </tr>\n",
       "    <tr>\n",
       "      <th>69121</th>\n",
       "      <td>0.0</td>\n",
       "      <td>0.0</td>\n",
       "      <td>five</td>\n",
       "      <td>2022-07-01 00:01:00</td>\n",
       "    </tr>\n",
       "    <tr>\n",
       "      <th>125281</th>\n",
       "      <td>0.0</td>\n",
       "      <td>0.0</td>\n",
       "      <td>cross</td>\n",
       "      <td>2022-07-01 00:01:00</td>\n",
       "    </tr>\n",
       "    <tr>\n",
       "      <th>...</th>\n",
       "      <td>...</td>\n",
       "      <td>...</td>\n",
       "      <td>...</td>\n",
       "      <td>...</td>\n",
       "    </tr>\n",
       "    <tr>\n",
       "      <th>56158</th>\n",
       "      <td>0.0</td>\n",
       "      <td>0.0</td>\n",
       "      <td>all</td>\n",
       "      <td>2022-08-08 23:58:00</td>\n",
       "    </tr>\n",
       "    <tr>\n",
       "      <th>113758</th>\n",
       "      <td>0.0</td>\n",
       "      <td>0.0</td>\n",
       "      <td>cross</td>\n",
       "      <td>2022-08-08 23:58:00</td>\n",
       "    </tr>\n",
       "    <tr>\n",
       "      <th>57599</th>\n",
       "      <td>0.0</td>\n",
       "      <td>0.0</td>\n",
       "      <td>five</td>\n",
       "      <td>2022-08-08 23:59:00</td>\n",
       "    </tr>\n",
       "    <tr>\n",
       "      <th>113759</th>\n",
       "      <td>0.0</td>\n",
       "      <td>0.0</td>\n",
       "      <td>cross</td>\n",
       "      <td>2022-08-08 23:59:00</td>\n",
       "    </tr>\n",
       "    <tr>\n",
       "      <th>56159</th>\n",
       "      <td>0.0</td>\n",
       "      <td>0.0</td>\n",
       "      <td>all</td>\n",
       "      <td>2022-08-08 23:59:00</td>\n",
       "    </tr>\n",
       "  </tbody>\n",
       "</table>\n",
       "<p>168480 rows × 4 columns</p>\n",
       "</div>"
      ],
      "text/plain": [
       "        forecast  correct_forecast   host                date\n",
       "0            0.0               0.0    all 2022-07-01 00:00:00\n",
       "125280       0.0               0.0  cross 2022-07-01 00:00:00\n",
       "69120        0.0               0.0   five 2022-07-01 00:00:00\n",
       "69121        0.0               0.0   five 2022-07-01 00:01:00\n",
       "125281       0.0               0.0  cross 2022-07-01 00:01:00\n",
       "...          ...               ...    ...                 ...\n",
       "56158        0.0               0.0    all 2022-08-08 23:58:00\n",
       "113758       0.0               0.0  cross 2022-08-08 23:58:00\n",
       "57599        0.0               0.0   five 2022-08-08 23:59:00\n",
       "113759       0.0               0.0  cross 2022-08-08 23:59:00\n",
       "56159        0.0               0.0    all 2022-08-08 23:59:00\n",
       "\n",
       "[168480 rows x 4 columns]"
      ]
     },
     "execution_count": 16,
     "metadata": {},
     "output_type": "execute_result"
    }
   ],
   "source": [
    "forecast_file = 'result.csv'\n",
    "\n",
    "forecast_df = pd.read_csv(forecast_file)\n",
    "\n",
    "forecast_df['date'] = pd.to_datetime(forecast_df['data'])\n",
    "forecast_df = forecast_df.drop(['data', 'Unnamed: 0'], axis=1).sort_values(by=['date'])\n",
    "\n",
    "forecast_df"
   ]
  },
  {
   "cell_type": "code",
   "execution_count": 56,
   "id": "7bd20248",
   "metadata": {
    "ExecuteTime": {
     "end_time": "2022-08-09T18:36:04.079926Z",
     "start_time": "2022-08-09T18:36:04.035911Z"
    }
   },
   "outputs": [
    {
     "name": "stdout",
     "output_type": "stream",
     "text": [
      "2022-08-04 13:32:00 - 2022-08-04 13:49:00\n",
      "\n",
      "Прогноз:      2946568\n",
      "Выручка:      1138046\n",
      "Потери:  \u001b[1m     1808522\n"
     ]
    }
   ],
   "source": [
    "forecast_df_all = forecast_df[forecast_df['host']=='all']\n",
    "forecast_df_cross = forecast_df[forecast_df['host']=='cross']\n",
    "forecast_df_five = forecast_df[forecast_df['host']=='five']\n",
    "\n",
    "df = forecast_df_all\n",
    "\n",
    "d1 = '2022-08-04 13:32:00'\n",
    "d2 = '2022-08-04 13:49:00'\n",
    "\n",
    "forecast = df[(d1 <= df['date']) & (df['date'] < d2)]['correct_forecast'].sum()\n",
    "revenue = 1138046.30\n",
    "\n",
    "print(d1, '-', d2)\n",
    "print(f'\\nПрогноз: {forecast:12.0f}\\nВыручка: {revenue:12.0f}\\nПотери:  \\033[1m{forecast - revenue:12.0f}')\n",
    "\n",
    "# for month in [10,11,7,8]:   \n",
    "#     d1 = f'2022-{month if month > 9 else \"0\"+str(month)}-01 00:00:00'\n",
    "#     d2 = f'2022-{month+1 if month > 8 else \"0\"+str(month+1)}-01 00:00:00'\n",
    "\n",
    "#     print(f'{month:2.0f}:', d1, d2, round(df[(d1 <= df['date']) & (df['date'] < d2)]['forecast'].sum()))"
   ]
  }
 ],
 "metadata": {
  "kernelspec": {
   "display_name": "Python 3",
   "language": "python",
   "name": "python3"
  },
  "language_info": {
   "codemirror_mode": {
    "name": "ipython",
    "version": 3
   },
   "file_extension": ".py",
   "mimetype": "text/x-python",
   "name": "python",
   "nbconvert_exporter": "python",
   "pygments_lexer": "ipython3",
   "version": "3.9.5"
  },
  "varInspector": {
   "cols": {
    "lenName": 16,
    "lenType": 16,
    "lenVar": 40
   },
   "kernels_config": {
    "python": {
     "delete_cmd_postfix": "",
     "delete_cmd_prefix": "del ",
     "library": "var_list.py",
     "varRefreshCmd": "print(var_dic_list())"
    },
    "r": {
     "delete_cmd_postfix": ") ",
     "delete_cmd_prefix": "rm(",
     "library": "var_list.r",
     "varRefreshCmd": "cat(var_dic_list()) "
    }
   },
   "types_to_exclude": [
    "module",
    "function",
    "builtin_function_or_method",
    "instance",
    "_Feature"
   ],
   "window_display": false
  }
 },
 "nbformat": 4,
 "nbformat_minor": 5
}
